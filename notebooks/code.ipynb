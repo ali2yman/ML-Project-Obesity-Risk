{
 "cells": [
  {
   "cell_type": "markdown",
   "metadata": {},
   "source": [
    "<h1 style=\"background-color:rgba(203, 35, 23, 0.92); font-family: newtimeroman; font-size: 250%; color: white; border-radius: 80px 20px; padding: 25px; text-align: center;\">\n",
    "  <b>Obesity Risk Prediction</b>\n",
    "</h1>"
   ]
  },
  {
   "cell_type": "markdown",
   "metadata": {},
   "source": [
    "**Dataset Overview**\n",
    "\n",
    "This notebook aims to analyze and predict obesity levels based on lifestyle, dietary habits, and personal characteristics."
   ]
  },
  {
   "cell_type": "markdown",
   "metadata": {},
   "source": [
    "**Key Features**  \n",
    "\n",
    "- **id:** Unique identifier for each individual in the dataset.  \n",
    "- **Gender:** Biological sex of the individual (Male/Female).  \n",
    "- **Age:** Age of the person (years).  \n",
    "- **Height:** Height of the individual (meters).  \n",
    "- **Weight:** Weight of the individual (kilograms).  \n",
    "- **family_history_with_overweight:** Indicates if obesity runs in the family (Yes/No).  \n",
    "- **FAVC:** Frequent consumption of high-calorie food (Yes/No).  \n",
    "- **FCVC:** Frequency of vegetable consumption (Scale: 1-3).  \n",
    "- **NCP:** Number of main meals consumed daily.  \n",
    "- **CAEC:** Frequency of food consumption between meals (Never/Sometimes/Frequently/Always).  \n",
    "- **SMOKE:** Indicates if the person smokes (Yes/No).  \n",
    "- **CH2O:** Daily water intake (liters).  \n",
    "- **SCC:** Whether the person monitors their calorie intake (Yes/No).  \n",
    "- **FAF:** Frequency of physical activity (Scale: 0-3).  \n",
    "- **TUE:** Time spent using electronic devices daily (hours).  \n",
    "- **CALC:** Alcohol consumption frequency (Never/Sometimes/Frequently/Always).  \n",
    "- **MTRANS:** Mode of transportation (Public Transport/Walking/Automobile/Bike).  \n",
    "- **NObeyesdad:** Target variable - obesity classification (Normal Weight, Overweight, Obese, etc.).  \n"
   ]
  },
  {
   "cell_type": "code",
   "execution_count": 3,
   "metadata": {},
   "outputs": [],
   "source": [
    "import numpy as np\n",
    "import pandas as pd \n",
    "import matplotlib.pyplot as plt\n",
    "import seaborn as sns "
   ]
  },
  {
   "cell_type": "code",
   "execution_count": 2,
   "metadata": {},
   "outputs": [],
   "source": [
    "train = pd.read_csv('../data/train.csv')    \n",
    "test = pd.read_csv('../data/test.csv')  "
   ]
  },
  {
   "cell_type": "code",
   "execution_count": 13,
   "metadata": {},
   "outputs": [
    {
     "data": {
      "text/plain": [
       "(20758, 18)"
      ]
     },
     "execution_count": 13,
     "metadata": {},
     "output_type": "execute_result"
    }
   ],
   "source": [
    "train.shape"
   ]
  },
  {
   "cell_type": "code",
   "execution_count": null,
   "metadata": {},
   "outputs": [],
   "source": []
  }
 ],
 "metadata": {
  "kernelspec": {
   "display_name": "env",
   "language": "python",
   "name": "python3"
  },
  "language_info": {
   "codemirror_mode": {
    "name": "ipython",
    "version": 3
   },
   "file_extension": ".py",
   "mimetype": "text/x-python",
   "name": "python",
   "nbconvert_exporter": "python",
   "pygments_lexer": "ipython3",
   "version": "3.8.0"
  }
 },
 "nbformat": 4,
 "nbformat_minor": 2
}
